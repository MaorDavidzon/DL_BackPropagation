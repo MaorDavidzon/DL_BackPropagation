{
  "nbformat": 4,
  "nbformat_minor": 0,
  "metadata": {
    "colab": {
      "name": "Copy of DL Assignment 1- Talia",
      "provenance": [],
      "collapsed_sections": [],
      "include_colab_link": true
    },
    "kernelspec": {
      "name": "python3",
      "display_name": "Python 3"
    }
  },
  "cells": [
    {
      "cell_type": "markdown",
      "metadata": {
        "id": "view-in-github",
        "colab_type": "text"
      },
      "source": [
        "<a href=\"https://colab.research.google.com/github/TaliaMelikhov/DL_BackPropagation/blob/master/Copy_of_DL_Assignment_1_Talia.ipynb\" target=\"_parent\"><img src=\"https://colab.research.google.com/assets/colab-badge.svg\" alt=\"Open In Colab\"/></a>"
      ]
    },
    {
      "cell_type": "markdown",
      "metadata": {
        "id": "SE6qcw_j8Pi2",
        "colab_type": "text"
      },
      "source": [
        "In this homework assignment, you are requested to implement a full backprop algorithm using only *numpy*.\n",
        "\n",
        "- We assume sigmoid activation across all layers.\n",
        "- We assume a single value in the output layer"
      ]
    },
    {
      "cell_type": "code",
      "metadata": {
        "id": "UV4RvXYL8k85",
        "colab_type": "code",
        "colab": {}
      },
      "source": [
        "import numpy as np\n",
        "import pandas as pd\n",
        "from google.colab import drive\n",
        "import matplotlib.pyplot as plt\n",
        "from sklearn.linear_model import LogisticRegression\n",
        "from sklearn.model_selection import train_test_split\n",
        "from sklearn.utils import shuffle"
      ],
      "execution_count": 0,
      "outputs": []
    },
    {
      "cell_type": "markdown",
      "metadata": {
        "id": "SRml6glFIPCa",
        "colab_type": "text"
      },
      "source": [
        "The followin class represents a simple feed forward network with multiple layers. The network class provides methods for running forward and backward for a single instance, throught the network. You should implement the methods (indicated with TODO), that performs forward and backward for an entire batch. Note, the idea is to use matrix multiplications, and not running standard loops over the instances in the batch."
      ]
    },
    {
      "cell_type": "code",
      "metadata": {
        "id": "kLdNoCt58qg5",
        "colab_type": "code",
        "colab": {}
      },
      "source": [
        "class MyNN:\n",
        "  def __init__(self, learning_rate, layer_sizes):\n",
        "    '''\n",
        "    learning_rate - the learning to use in backward\n",
        "    layer_sizes - a list of numbers, each number repreents the nuber of neurons\n",
        "                  to have in every layer. Therfore, the length of the list \n",
        "                  represents the number layers this network has.\n",
        "    '''\n",
        "    self.learning_rate = learning_rate\n",
        "    self.layer_sizes = layer_sizes\n",
        "    self.model_params = {}\n",
        "    self.memory = {}\n",
        "    self.grads = {}\n",
        "    \n",
        "    # Initializing weights\n",
        "    for layer_index in range(len(layer_sizes) - 1):\n",
        "      W_input = layer_sizes[layer_index + 1]\n",
        "      W_output = layer_sizes[layer_index]\n",
        "      self.model_params['W_' + str(layer_index + 1)] = np.random.randn(W_input, W_output) * 0.1\n",
        "      self.model_params['b_' + str(layer_index + 1)] = np.random.randn(W_input) * 0.1\n",
        "      \n",
        "      \n",
        "  def forward_single_instance(self, x):    \n",
        "    a_i_1 = x\n",
        "    self.memory['a_0'] = x\n",
        "    for layer_index in range(len(self.layer_sizes) - 1):\n",
        "      W_i = self.model_params['W_' + str(layer_index + 1)]\n",
        "      b_i = self.model_params['b_' + str(layer_index + 1)]\n",
        "      z_i = np.dot(W_i, a_i_1) + b_i\n",
        "      a_i = 1/(1+np.exp(-z_i))\n",
        "      self.memory['a_' + str(layer_index + 1)] = a_i\n",
        "      a_i_1 = a_i\n",
        "    return a_i_1\n",
        "  \n",
        "  \n",
        "  def log_loss(y_hat, y):\n",
        "    '''\n",
        "    Logistic loss, assuming a single value in y_hat and y.\n",
        "    '''\n",
        "    cost = -y[0]*np.log(y_hat[0]) - (1 - y[0])*np.log(1 - y_hat[0])\n",
        "    return cost\n",
        "  \n",
        "  \n",
        "  def backward_single_instance(self, y):\n",
        "    a_output = self.memory['a_' + str(len(self.layer_sizes) - 1)]\n",
        "    dz = a_output - y\n",
        "     \n",
        "    for layer_index in range(len(self.layer_sizes) - 1, 0, -1):\n",
        "      print(layer_index)\n",
        "      a_l_1 = self.memory['a_' + str(layer_index - 1)]\n",
        "      dW = np.dot(dz.reshape(-1, 1), a_l_1.reshape(1, -1))\n",
        "      self.grads['dW_' + str(layer_index)] = dW\n",
        "      W_l = self.model_params['W_' + str(layer_index)]\n",
        "      dz = (a_l_1 * (1 - a_l_1)).reshape(-1, 1) * np.dot(W_l.T, dz.reshape(-1, 1))\n",
        "      db = dz # TODO: - DONE \n",
        "      self.grads['db_' + str(layer_index)] = db # TODO: - DONE\n",
        "  \n",
        "  # TODO: update weights with grads\n",
        "  def update(self):  # TODO: - DONE\n",
        "     for layer_index in range(len(self.layer_sizes)-1):\n",
        "      self.model_params['W_' + str(layer_index + 1)] -= (self.learning_rate * self.grads['dW_' + str(layer_index + 1)])\n",
        "      self.model_params['b_' + str(layer_index + 1)] -= (self.learning_rate * self.grads['db_' + str(layer_index + 1)])\n",
        "\n",
        "  \n",
        "  # TODO: implement forward for a batch X.shape = (network_input_size, number_of_instance)\n",
        "  def forward_batch(self, X):\n",
        "    A_i_1 = X\n",
        "    self.memory['A_0'] = X\n",
        "    for layer_index in range(len(self.layer_sizes) - 1):\n",
        "      W_i = self.model_params['W_' + str(layer_index + 1)]\n",
        "      b_i = self.model_params['b_' + str(layer_index + 1)]\n",
        "      Z_i = np.dot(W_i, A_i_1) + b_i.reshape(-1,1)\n",
        "      A_i = 1/(1+np.exp(-Z_i))\n",
        "      self.memory['A_' + str(layer_index + 1)] = A_i\n",
        "      A_i_1 = A_i\n",
        "    return A_i_1\n",
        "\n",
        "\n",
        " # TODO: implement backward for a batch y.shape = (1, number_of_instance)\n",
        "  def backward_batch(self, y):\n",
        "    A_output = self.memory['A_' + str(len(self.layer_sizes) - 1)]\n",
        "    dZ = A_output - y\n",
        "    m = (y.shape[1])\n",
        "\n",
        "    for layer_index in range(len(self.layer_sizes) - 1, 0, -1):\n",
        "      A_l_1 = self.memory['A_' + str(layer_index-1)]\n",
        "      dW = (1/m)*(np.dot(dZ, A_l_1.T))\n",
        "      self.grads['dW_' + str(layer_index)] = dW\n",
        "      W_l = self.model_params['W_' + str(layer_index)]\n",
        "      db = dZ.T.mean(0)\n",
        "      self.grads['db_' + str(layer_index)] = db\n",
        "      dZ = (A_l_1 * (1 - A_l_1))* np.dot(W_l.T, dZ)\n",
        "  \n",
        "  # TODO: implement log_loss_batch, for a batch of instances\n",
        "  def log_loss_batch(self, y_hat, y):\n",
        "    m = y.shape[1]\n",
        "    cost =  (np.dot(y, np.log(y_hat).T) + np.dot(1 - y, np.log(1 - y_hat).T))\n",
        "    return cost.sum() * (-1/m)"
      ],
      "execution_count": 0,
      "outputs": []
    },
    {
      "cell_type": "code",
      "metadata": {
        "id": "Qib6W4QXO644",
        "colab_type": "code",
        "colab": {}
      },
      "source": [
        "nn = MyNN(0.01, [3, 2, 1])"
      ],
      "execution_count": 0,
      "outputs": []
    },
    {
      "cell_type": "code",
      "metadata": {
        "id": "4nQR8QllPf_5",
        "colab_type": "code",
        "outputId": "017c35a9-4e4a-4625-ef09-349a3fd5e215",
        "colab": {
          "base_uri": "https://localhost:8080/",
          "height": 102
        }
      },
      "source": [
        "nn.model_params"
      ],
      "execution_count": 444,
      "outputs": [
        {
          "output_type": "execute_result",
          "data": {
            "text/plain": [
              "{'W_1': array([[ 0.06219801,  0.16260141, -0.10947073],\n",
              "        [ 0.08885953, -0.06294587, -0.05798469]]),\n",
              " 'W_2': array([[-0.02580489, -0.00977151]]),\n",
              " 'b_1': array([0.09305576, 0.24223814]),\n",
              " 'b_2': array([-0.01521281])}"
            ]
          },
          "metadata": {
            "tags": []
          },
          "execution_count": 444
        }
      ]
    },
    {
      "cell_type": "code",
      "metadata": {
        "id": "VXiyn-yrPC6-",
        "colab_type": "code",
        "outputId": "38a3e32b-cd80-4beb-8048-583e76cf01df",
        "colab": {
          "base_uri": "https://localhost:8080/",
          "height": 34
        }
      },
      "source": [
        "x = np.random.randn(3)\n",
        "y = np.random.randn(1)\n",
        "\n",
        "y_hat = nn.forward_single_instance(x)\n",
        "print(y_hat)"
      ],
      "execution_count": 445,
      "outputs": [
        {
          "output_type": "stream",
          "text": [
            "[0.49117581]\n"
          ],
          "name": "stdout"
        }
      ]
    },
    {
      "cell_type": "code",
      "metadata": {
        "id": "k5M50i3plclj",
        "colab_type": "code",
        "outputId": "5ef7f4e0-a48b-4dd3-b515-5161c64aa74e",
        "colab": {
          "base_uri": "https://localhost:8080/",
          "height": 51
        }
      },
      "source": [
        "nn.backward_single_instance(y)"
      ],
      "execution_count": 446,
      "outputs": [
        {
          "output_type": "stream",
          "text": [
            "2\n",
            "1\n"
          ],
          "name": "stdout"
        }
      ]
    },
    {
      "cell_type": "code",
      "metadata": {
        "id": "CWnZB1YmYnIt",
        "colab_type": "code",
        "colab": {}
      },
      "source": [
        "def train(X, y, epochs, batch_size):\n",
        "  '''\n",
        "  Train procedure, please note the TODOs inside\n",
        "  '''\n",
        "  loss_per_epoch = []\n",
        "  for e in range(1, epochs + 1):\n",
        "    epoch_loss = 0\n",
        "    X_s, y_s = shuffle(X.T, y.T)\n",
        "    batches_X = np.array_split(X_s ,batch_size)  # TODO: - DONE\n",
        "    batches_y = np.array_split(y_s, batch_size)\n",
        "\n",
        "\n",
        "    for X_b, y_b in zip(batches_X, batches_y):\n",
        "      y_hat = nn.forward_batch(X_b.T)\n",
        "      epoch_loss += nn.log_loss_batch(y_hat, y_b.T)\n",
        "      nn.backward_batch(y_b.T)\n",
        "      nn.update()\n",
        "    loss_per_epoch.append(epoch_loss / len(batches_X))\n",
        "    print(f'Epoch {e}, loss={epoch_loss/len(batches_X)}')\n",
        "  return loss_per_epoch\n"
      ],
      "execution_count": 0,
      "outputs": []
    },
    {
      "cell_type": "code",
      "metadata": {
        "id": "cE1ydWlatkty",
        "colab_type": "code",
        "outputId": "d9c799b3-0e3b-43b8-a757-d2a4635d1642",
        "colab": {
          "base_uri": "https://localhost:8080/",
          "height": 68
        }
      },
      "source": [
        "# TODO: Make sure the following network trains properly\n",
        "\n",
        "nn = MyNN(0.001, [6, 4, 3, 1])\n",
        "\n",
        "X = np.random.randn(6, 100)\n",
        "y = np.random.randn(1, 100)\n",
        "batch_size = 8\n",
        "epochs = 2\n",
        "\n",
        "train(X, y, epochs, batch_size)"
      ],
      "execution_count": 448,
      "outputs": [
        {
          "output_type": "stream",
          "text": [
            "Epoch 1, loss=0.7163891490657548\n",
            "Epoch 2, loss=0.7074148283741255\n"
          ],
          "name": "stdout"
        },
        {
          "output_type": "execute_result",
          "data": {
            "text/plain": [
              "[0.7163891490657548, 0.7074148283741255]"
            ]
          },
          "metadata": {
            "tags": []
          },
          "execution_count": 448
        }
      ]
    },
    {
      "cell_type": "markdown",
      "metadata": {
        "id": "6dY4scUksulC",
        "colab_type": "text"
      },
      "source": [
        "#TODO: train on an external dataset\n",
        "\n",
        "Train on the Bike Sharing dataset, using the same split as in *DL Notebook 4 - logistic regression*.\n",
        "Use the following features from the data:\n",
        "\n",
        "* temp\n",
        "* atemp\n",
        "* hum\n",
        "* windspeed\n",
        "* weekday\n",
        "\n",
        "The response variable is, like in Notebook 4, raw[\"success\"] = raw[\"cnt\"] > (raw[\"cnt\"].describe()[\"mean\"]).\n",
        "\n",
        "The architecture of the network should be: [5, 40, 30, 10, 7, 5, 3, 1].\n",
        "\n",
        "Use batch_size=8, and train it for 100 epochs on the train set (based on the split as requested above).\n",
        "\n",
        "Then, plot loss per epoch."
      ]
    },
    {
      "cell_type": "code",
      "metadata": {
        "id": "3Y0GvPArZear",
        "colab_type": "code",
        "colab": {}
      },
      "source": [
        "drive.mount('/content/drive')"
      ],
      "execution_count": 0,
      "outputs": []
    },
    {
      "cell_type": "code",
      "metadata": {
        "id": "4xO1SWf6p85Y",
        "colab_type": "code",
        "outputId": "dd36b627-49e8-4b8d-8492-cb4a95182a87",
        "colab": {
          "base_uri": "https://localhost:8080/",
          "height": 63
        }
      },
      "source": [
        "!ls /content/drive/My\\ Drive/Bike\\ Dataset/Bike-Sharing-Dataset"
      ],
      "execution_count": 0,
      "outputs": [
        {
          "output_type": "stream",
          "text": [
            "day.csv  hour.csv  Readme.txt\n"
          ],
          "name": "stdout"
        }
      ]
    },
    {
      "cell_type": "code",
      "metadata": {
        "id": "t69GIXM5qHiD",
        "colab_type": "code",
        "colab": {}
      },
      "source": [
        "# loading the data\n",
        "\n",
        "raw = pd.read_csv('/content/drive/My Drive/Bike Dataset/Bike-Sharing-Dataset/day.csv')"
      ],
      "execution_count": 0,
      "outputs": []
    },
    {
      "cell_type": "code",
      "metadata": {
        "id": "55i2WBsFqiDY",
        "colab_type": "code",
        "outputId": "761010a2-e73e-4098-c501-07a496bb2a97",
        "colab": {
          "base_uri": "https://localhost:8080/",
          "height": 170
        }
      },
      "source": [
        "raw[\"cnt\"].describe()"
      ],
      "execution_count": 450,
      "outputs": [
        {
          "output_type": "execute_result",
          "data": {
            "text/plain": [
              "count     731.000000\n",
              "mean     4504.348837\n",
              "std      1937.211452\n",
              "min        22.000000\n",
              "25%      3152.000000\n",
              "50%      4548.000000\n",
              "75%      5956.000000\n",
              "max      8714.000000\n",
              "Name: cnt, dtype: float64"
            ]
          },
          "metadata": {
            "tags": []
          },
          "execution_count": 450
        }
      ]
    },
    {
      "cell_type": "code",
      "metadata": {
        "id": "fhaWVDLpq0la",
        "colab_type": "code",
        "colab": {}
      },
      "source": [
        "raw[\"success\"] = raw[\"cnt\"] > (raw[\"cnt\"].describe()[\"mean\"])"
      ],
      "execution_count": 0,
      "outputs": []
    },
    {
      "cell_type": "code",
      "metadata": {
        "id": "OjE304Lxq50g",
        "colab_type": "code",
        "colab": {}
      },
      "source": [
        "# NN \n",
        "batch_size = 8\n",
        "epochs = 100\n",
        "\n",
        "nn = MyNN(0.01, [5, 40, 30, 10, 7, 5, 3, 1])\n"
      ],
      "execution_count": 0,
      "outputs": []
    },
    {
      "cell_type": "code",
      "metadata": {
        "id": "igdHIn-yrVON",
        "colab_type": "code",
        "outputId": "cce2ef06-7ffd-4d38-f802-4db6cd8e69a2",
        "colab": {
          "base_uri": "https://localhost:8080/",
          "height": 176
        }
      },
      "source": [
        "y = raw[\"success\"]\n",
        "\n",
        "# split the data to train and test, using \n",
        "# http://scikit-learn.org/stable/modules/generated/sklearn.model_selection.train_test_split.html\n",
        "X = raw[[\"temp\", \"atemp\", \"hum\", \"windspeed\", \"weekday\"]]\n",
        "  \n",
        "X_train, X_test, y_train, y_test = train_test_split(X, y, test_size=0.3)\n",
        "\n",
        "lr = LogisticRegression()\n",
        "\n",
        "lr.fit(X_train, y_train)"
      ],
      "execution_count": 453,
      "outputs": [
        {
          "output_type": "stream",
          "text": [
            "/usr/local/lib/python3.6/dist-packages/sklearn/linear_model/logistic.py:432: FutureWarning: Default solver will be changed to 'lbfgs' in 0.22. Specify a solver to silence this warning.\n",
            "  FutureWarning)\n"
          ],
          "name": "stderr"
        },
        {
          "output_type": "execute_result",
          "data": {
            "text/plain": [
              "LogisticRegression(C=1.0, class_weight=None, dual=False, fit_intercept=True,\n",
              "                   intercept_scaling=1, l1_ratio=None, max_iter=100,\n",
              "                   multi_class='warn', n_jobs=None, penalty='l2',\n",
              "                   random_state=None, solver='warn', tol=0.0001, verbose=0,\n",
              "                   warm_start=False)"
            ]
          },
          "metadata": {
            "tags": []
          },
          "execution_count": 453
        }
      ]
    },
    {
      "cell_type": "code",
      "metadata": {
        "id": "UME2ZV6pagkd",
        "colab_type": "code",
        "outputId": "4078750f-3878-45c1-d6b6-ad1696e44049",
        "colab": {
          "base_uri": "https://localhost:8080/",
          "height": 1000
        }
      },
      "source": [
        "    X_train = np.array(X_train.T)\n",
        "    X_test = np.array(X_test.T)\n",
        "    y_train = np.array(y_train).reshape(1, -1)\n",
        "    y_test = np.array(y_test).reshape(1, -1)\n",
        "    loss_per_epoch = train(X_train, y_train, epochs, batch_size)\n",
        "    plt.plot(loss_per_epoch)\n",
        "    plt.xlabel('Epoch Number')\n",
        "    plt.ylabel(\"Loss Magnitude\")\n",
        "    plt.show()"
      ],
      "execution_count": 454,
      "outputs": [
        {
          "output_type": "stream",
          "text": [
            "Epoch 1, loss=0.6932315201799069\n",
            "Epoch 2, loss=0.6931834840050924\n",
            "Epoch 3, loss=0.6931285568017593\n",
            "Epoch 4, loss=0.6931078541556699\n",
            "Epoch 5, loss=0.6931024529928637\n",
            "Epoch 6, loss=0.6930557507571\n",
            "Epoch 7, loss=0.6930311900164695\n",
            "Epoch 8, loss=0.6930151917029214\n",
            "Epoch 9, loss=0.6930049006192178\n",
            "Epoch 10, loss=0.6929699945864551\n",
            "Epoch 11, loss=0.6929664255999926\n",
            "Epoch 12, loss=0.6929282893096228\n",
            "Epoch 13, loss=0.6929520901764913\n",
            "Epoch 14, loss=0.6929342120954861\n",
            "Epoch 15, loss=0.692905860284623\n",
            "Epoch 16, loss=0.6928915589628805\n",
            "Epoch 17, loss=0.6928779522998144\n",
            "Epoch 18, loss=0.6928606633198934\n",
            "Epoch 19, loss=0.6928900607107615\n",
            "Epoch 20, loss=0.6928575826612368\n",
            "Epoch 21, loss=0.69284770798447\n",
            "Epoch 22, loss=0.6928445222605647\n",
            "Epoch 23, loss=0.6928460041324798\n",
            "Epoch 24, loss=0.692828722568285\n",
            "Epoch 25, loss=0.6928176213482642\n",
            "Epoch 26, loss=0.6928368827369983\n",
            "Epoch 27, loss=0.6927978002694035\n",
            "Epoch 28, loss=0.6928198985033214\n",
            "Epoch 29, loss=0.6927824953983406\n",
            "Epoch 30, loss=0.6927941908863386\n",
            "Epoch 31, loss=0.6927809294333818\n",
            "Epoch 32, loss=0.6927847867111501\n",
            "Epoch 33, loss=0.6927725436928939\n",
            "Epoch 34, loss=0.6927899459254041\n",
            "Epoch 35, loss=0.6927986592709399\n",
            "Epoch 36, loss=0.6927937707578568\n",
            "Epoch 37, loss=0.6927777503590672\n",
            "Epoch 38, loss=0.6928472023985358\n",
            "Epoch 39, loss=0.6927691942233586\n",
            "Epoch 40, loss=0.6927732368156592\n",
            "Epoch 41, loss=0.6927600760092792\n",
            "Epoch 42, loss=0.6927432621920804\n",
            "Epoch 43, loss=0.6927955639619823\n",
            "Epoch 44, loss=0.692833232698643\n",
            "Epoch 45, loss=0.6927585698271199\n",
            "Epoch 46, loss=0.6927684423215515\n",
            "Epoch 47, loss=0.6928127107643356\n",
            "Epoch 48, loss=0.6927707141319219\n",
            "Epoch 49, loss=0.6927749150719342\n",
            "Epoch 50, loss=0.6927475737700622\n",
            "Epoch 51, loss=0.6928005128059523\n",
            "Epoch 52, loss=0.692752537932939\n",
            "Epoch 53, loss=0.6927572632225446\n",
            "Epoch 54, loss=0.6928059026062879\n",
            "Epoch 55, loss=0.6927489488663494\n",
            "Epoch 56, loss=0.6927983532592427\n",
            "Epoch 57, loss=0.6927462962831328\n",
            "Epoch 58, loss=0.6927619480871408\n",
            "Epoch 59, loss=0.6927362102664565\n",
            "Epoch 60, loss=0.692736081859191\n",
            "Epoch 61, loss=0.6927459840418883\n",
            "Epoch 62, loss=0.692753854075621\n",
            "Epoch 63, loss=0.6927815502158041\n",
            "Epoch 64, loss=0.6927513865728366\n",
            "Epoch 65, loss=0.6927428420317804\n",
            "Epoch 66, loss=0.6927649879914684\n",
            "Epoch 67, loss=0.6927496194665774\n",
            "Epoch 68, loss=0.6927394288020065\n",
            "Epoch 69, loss=0.6927296610424508\n",
            "Epoch 70, loss=0.6927611418285365\n",
            "Epoch 71, loss=0.6927400011429325\n",
            "Epoch 72, loss=0.6927233607060596\n",
            "Epoch 73, loss=0.692751090319219\n",
            "Epoch 74, loss=0.6927446452714027\n",
            "Epoch 75, loss=0.6927432636311551\n",
            "Epoch 76, loss=0.6927377355487873\n",
            "Epoch 77, loss=0.6927518599226085\n",
            "Epoch 78, loss=0.6927264511869038\n",
            "Epoch 79, loss=0.6927522207202191\n",
            "Epoch 80, loss=0.6927478324681225\n",
            "Epoch 81, loss=0.6927403943447\n",
            "Epoch 82, loss=0.6927491113371707\n",
            "Epoch 83, loss=0.6927717232904239\n",
            "Epoch 84, loss=0.6927595473060627\n",
            "Epoch 85, loss=0.6927263776047439\n",
            "Epoch 86, loss=0.6927431333642364\n",
            "Epoch 87, loss=0.692736724804663\n",
            "Epoch 88, loss=0.6927627176880192\n",
            "Epoch 89, loss=0.6927453132185513\n",
            "Epoch 90, loss=0.6927502347208476\n",
            "Epoch 91, loss=0.6927529765654268\n",
            "Epoch 92, loss=0.6927661253558214\n",
            "Epoch 93, loss=0.6927880603769705\n",
            "Epoch 94, loss=0.6927259159902954\n",
            "Epoch 95, loss=0.6927286448148444\n",
            "Epoch 96, loss=0.6927261818142796\n",
            "Epoch 97, loss=0.6927237437567058\n",
            "Epoch 98, loss=0.6927476100241227\n",
            "Epoch 99, loss=0.6927345712116273\n",
            "Epoch 100, loss=0.6927426673810755\n"
          ],
          "name": "stdout"
        },
        {
          "output_type": "display_data",
          "data": {
            "image/png": "[encoded data removed]",
            "text/plain": [
              "<Figure size 432x288 with 1 Axes>"
            ]
          },
          "metadata": {
            "tags": []
          }
        }
      ]
    }
  ]
}