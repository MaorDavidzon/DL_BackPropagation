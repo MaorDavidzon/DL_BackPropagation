{
  "nbformat": 4,
  "nbformat_minor": 0,
  "metadata": {
    "colab": {
      "name": "Copy of Assignment 2: Fashion MNIST CNN",
      "provenance": [],
      "collapsed_sections": [],
      "include_colab_link": true
    },
    "kernelspec": {
      "name": "python3",
      "display_name": "Python 3"
    }
  },
  "cells": [
    {
      "cell_type": "markdown",
      "metadata": {
        "id": "view-in-github",
        "colab_type": "text"
      },
      "source": [
        "<a href=\"https://colab.research.google.com/github/TaliaMelikhov/DL_BackPropagation/blob/master/Fashion_MNIST_CNN.ipynb\" target=\"_parent\"><img src=\"https://colab.research.google.com/assets/colab-badge.svg\" alt=\"Open In Colab\"/></a>"
      ]
    },
    {
      "cell_type": "markdown",
      "metadata": {
        "id": "dYgpzGuMdx8-",
        "colab_type": "text"
      },
      "source": [
        "**Assignment # 2, CNN over Fasion MNIST**\n",
        "\n",
        "In this assignment you are requested to build a convolutional network and train it over the Fasion MNIST data, which is a collection of 28X28 back and white images, classified into 10 different classes of clothing items. For more information about Fashion MNIST you may refer to: \n",
        "https://github.com/zalandoresearch/fashion-mnist "
      ]
    },
    {
      "cell_type": "markdown",
      "metadata": {
        "id": "2BibNhZ5ECjS",
        "colab_type": "text"
      },
      "source": [
        ""
      ]
    },
    {
      "cell_type": "code",
      "metadata": {
        "id": "Q5w6wIzcd1LG",
        "colab_type": "code",
        "outputId": "5b9b8cb1-e40e-4e20-bf77-32101ce9e34b",
        "colab": {
          "base_uri": "https://localhost:8080/",
          "height": 275
        }
      },
      "source": [
        "# Loading Fashion MNIST\n",
        "\n",
        "\n",
        "import torch\n",
        "import torch.nn as nn\n",
        "import torchvision\n",
        "import torchvision.transforms as transforms\n",
        "import torch.nn.functional as F\n",
        "import array as arr \n",
        "import matplotlib.pyplot as plt\n",
        "from datetime import datetime\n",
        "\n",
        "trainset = torchvision.datasets.FashionMNIST(root='./data', train=True,\n",
        "                                        download=True, transform=transforms.ToTensor())\n",
        "\n",
        "testset = torchvision.datasets.FashionMNIST(root='./data', train=False,\n",
        "                                       download=True, transform=transforms.ToTensor())\n",
        "\n",
        "classes = ('T-shirt/top', 'Trouser', 'Pullover', 'Dress',\n",
        "           'Coat', 'Sandal', 'Shirt', 'Sneaker', 'Bag', 'Ankle boot')"
      ],
      "execution_count": 0,
      "outputs": [
        {
          "output_type": "stream",
          "text": [
            "\r0it [00:00, ?it/s]"
          ],
          "name": "stderr"
        },
        {
          "output_type": "stream",
          "text": [
            "Downloading http://fashion-mnist.s3-website.eu-central-1.amazonaws.com/train-images-idx3-ubyte.gz to ./data/FashionMNIST/raw/train-images-idx3-ubyte.gz\n"
          ],
          "name": "stdout"
        },
        {
          "output_type": "stream",
          "text": [
            "26427392it [00:01, 14761385.87it/s]                              \n"
          ],
          "name": "stderr"
        },
        {
          "output_type": "stream",
          "text": [
            "Extracting ./data/FashionMNIST/raw/train-images-idx3-ubyte.gz to ./data/FashionMNIST/raw\n"
          ],
          "name": "stdout"
        },
        {
          "output_type": "stream",
          "text": [
            "\r0it [00:00, ?it/s]"
          ],
          "name": "stderr"
        },
        {
          "output_type": "stream",
          "text": [
            "Downloading http://fashion-mnist.s3-website.eu-central-1.amazonaws.com/train-labels-idx1-ubyte.gz to ./data/FashionMNIST/raw/train-labels-idx1-ubyte.gz\n"
          ],
          "name": "stdout"
        },
        {
          "output_type": "stream",
          "text": [
            "32768it [00:00, 100952.80it/s]           \n",
            "0it [00:00, ?it/s]"
          ],
          "name": "stderr"
        },
        {
          "output_type": "stream",
          "text": [
            "Extracting ./data/FashionMNIST/raw/train-labels-idx1-ubyte.gz to ./data/FashionMNIST/raw\n",
            "Downloading http://fashion-mnist.s3-website.eu-central-1.amazonaws.com/t10k-images-idx3-ubyte.gz to ./data/FashionMNIST/raw/t10k-images-idx3-ubyte.gz\n"
          ],
          "name": "stdout"
        },
        {
          "output_type": "stream",
          "text": [
            "4423680it [00:01, 4291442.75it/s]                             \n",
            "0it [00:00, ?it/s]"
          ],
          "name": "stderr"
        },
        {
          "output_type": "stream",
          "text": [
            "Extracting ./data/FashionMNIST/raw/t10k-images-idx3-ubyte.gz to ./data/FashionMNIST/raw\n",
            "Downloading http://fashion-mnist.s3-website.eu-central-1.amazonaws.com/t10k-labels-idx1-ubyte.gz to ./data/FashionMNIST/raw/t10k-labels-idx1-ubyte.gz\n"
          ],
          "name": "stdout"
        },
        {
          "output_type": "stream",
          "text": [
            "8192it [00:00, 36538.14it/s]            "
          ],
          "name": "stderr"
        },
        {
          "output_type": "stream",
          "text": [
            "Extracting ./data/FashionMNIST/raw/t10k-labels-idx1-ubyte.gz to ./data/FashionMNIST/raw\n",
            "Processing...\n",
            "Done!\n"
          ],
          "name": "stdout"
        },
        {
          "output_type": "stream",
          "text": [
            "\n"
          ],
          "name": "stderr"
        }
      ]
    },
    {
      "cell_type": "code",
      "metadata": {
        "id": "0Xs3rDG0xBmL",
        "colab_type": "code",
        "colab": {}
      },
      "source": [
        "# Use dataloaders for train and test (batch size is 4)\n",
        "\n",
        "trainloader = torch.utils.data.DataLoader(trainset, batch_size=4,\n",
        "                                          shuffle=True)\n",
        "\n",
        "testloader = torch.utils.data.DataLoader(testset, batch_size=4,\n",
        "                                         shuffle=False)"
      ],
      "execution_count": 0,
      "outputs": []
    },
    {
      "cell_type": "code",
      "metadata": {
        "id": "bKOHObeAj99B",
        "colab_type": "code",
        "outputId": "bfdbacee-eaa0-40ec-b0a8-ad029e78e3c0",
        "colab": {
          "base_uri": "https://localhost:8080/",
          "height": 34
        }
      },
      "source": [
        "# The images are of 1, 28, 28 size (only one black-white channel)\n",
        "\n",
        "trainset[0][0].shape"
      ],
      "execution_count": 0,
      "outputs": [
        {
          "output_type": "execute_result",
          "data": {
            "text/plain": [
              "torch.Size([1, 28, 28])"
            ]
          },
          "metadata": {
            "tags": []
          },
          "execution_count": 3
        }
      ]
    },
    {
      "cell_type": "markdown",
      "metadata": {
        "id": "E6jH2cjTVnVi",
        "colab_type": "text"
      },
      "source": [
        "Here is what you need to do; you are encoureged to look at notebook \"DL Notebook 9 - CIFAR CNN\" when trying to complete the next steps.\n",
        "\n",
        "\n",
        "Write a network CNNFMnist, that has the following architecture:\n",
        "\n",
        "* Convolution with 10 3X3 filters\n",
        "* Relu\n",
        "* Max pool with 2X2\n",
        "* Convolution with 5 3X3 filters\n",
        "* Relu\n",
        "* Convolution with 16 3X3 filters\n",
        "* Relu\n",
        "* Max pool with 2X2\n",
        "* Liner, output size 128\n",
        "* Relu\n",
        "* Liner, output size 64\n",
        "* Relu\n",
        "* Liner, output size 10"
      ]
    },
    {
      "cell_type": "code",
      "metadata": {
        "id": "hoiGc1-donFO",
        "colab_type": "code",
        "colab": {}
      },
      "source": [
        "class CNNFMnist(nn.Module):\n",
        "\n",
        "    def __init__(self):\n",
        "        super(CNNFMnist, self).__init__()\n",
        "        #Convolution with 10 3X3 filters\n",
        "        self.conv1 = nn.Conv2d(1, 10, 3)\n",
        "        self.conv2 = nn.Conv2d(10, 5, 3)\n",
        "        self.conv3 = nn.Conv2d(5, 16, 3)\n",
        "\n",
        "        # now a few fully connected layers\n",
        "        self.fc1 = nn.Linear(16 * 4 * 4, 128)\n",
        "        self.fc2 = nn.Linear(128, 64)\n",
        "        self.fc3 = nn.Linear(64, 10)\n",
        "\n",
        "    def forward(self, x):\n",
        "        # Max pooling over a (2, 2) window\n",
        "        x = F.max_pool2d(F.relu(self.conv1(x)), (2, 2))\n",
        "        x = F.relu(self.conv2(x))\n",
        "        x = F.max_pool2d(F.relu(self.conv3(x)), 2)\n",
        "        x = x.view(-1, self.num_flat_features(x))\n",
        "        x = F.relu(self.fc1(x))\n",
        "        x = F.relu(self.fc2(x))\n",
        "        x = self.fc3(x)\n",
        "        return x\n",
        "\n",
        "    def num_flat_features(self, x):\n",
        "        size = x.size()[1:]  # all dimensions except the batch dimension\n",
        "        num_features = 1\n",
        "        for s in size:\n",
        "            num_features *= s\n",
        "        return num_features\n",
        "\n",
        "\n"
      ],
      "execution_count": 0,
      "outputs": []
    },
    {
      "cell_type": "markdown",
      "metadata": {
        "id": "ksWPM9kvYWmC",
        "colab_type": "text"
      },
      "source": [
        "Write a code that trains the network with FashionMNIST train dataset, for classification (use cross entropy, and SGD).\n",
        "Run the network for at least 10 epochs, over the entire dataset. Make sure to print the loss over the train set as well as the **test set** over time (say, every 1000 batches, but it's up to you), so you will know where you are during training. \n",
        "\n",
        "Note, measuring loss of test is similar to measuring loss over the train test. However, make sure not to run the test images in back propagation. Use them only in forward and calulate the average loss over the entire test set. Since it will make the training process run slower, you should measure loss for the test set only at the end of an epoch (so overall you get 10 loss values for the test set). You are encoureged to write a different function for claculating the loss of the test set, and then call it from the training procedure.\n",
        "\n",
        "\n",
        "You should collect the loss values in an array, so you can plot then into two curves, one for train and one for test.\n",
        "\n",
        "In addition, you should measure the time it takes you to train the network completely.\n",
        "\n"
      ]
    },
    {
      "cell_type": "code",
      "metadata": {
        "id": "4t2B_0BW_QJ2",
        "colab_type": "code",
        "outputId": "1c093982-938f-472f-86f8-0122da563dcc",
        "colab": {
          "base_uri": "https://localhost:8080/",
          "height": 153
        }
      },
      "source": [
        "#net = CNNFMnist().cuda()     # -- For GPU\n",
        "net = CNNFMnist()            # -- For CPU\n",
        "\n",
        "print(net)\n"
      ],
      "execution_count": 0,
      "outputs": [
        {
          "output_type": "stream",
          "text": [
            "CNNFMnist(\n",
            "  (conv1): Conv2d(1, 10, kernel_size=(3, 3), stride=(1, 1))\n",
            "  (conv2): Conv2d(10, 5, kernel_size=(3, 3), stride=(1, 1))\n",
            "  (conv3): Conv2d(5, 16, kernel_size=(3, 3), stride=(1, 1))\n",
            "  (fc1): Linear(in_features=256, out_features=128, bias=True)\n",
            "  (fc2): Linear(in_features=128, out_features=64, bias=True)\n",
            "  (fc3): Linear(in_features=64, out_features=10, bias=True)\n",
            ")\n"
          ],
          "name": "stdout"
        }
      ]
    },
    {
      "cell_type": "code",
      "metadata": {
        "id": "4fexFSc1qkTT",
        "colab_type": "code",
        "colab": {}
      },
      "source": [
        "def test_loss_clac():\n",
        "  test_loss = 0.0\n",
        "  for i, data  in enumerate(testloader, 0):\n",
        "    inputs, labels = data\n",
        "    #inputs = inputs.cuda() # -- For GPU\n",
        "    #labels = labels.cuda() # -- For GPU\n",
        "    outputs = net(inputs)\n",
        "    loss = criterion(outputs, labels)\n",
        "    test_loss += loss.item()\n",
        "  return test_loss/(len(testloader.dataset))\n"
      ],
      "execution_count": 0,
      "outputs": []
    },
    {
      "cell_type": "code",
      "metadata": {
        "id": "b7MAXSsH67IF",
        "colab_type": "code",
        "outputId": "7c1f4d29-ba05-4a99-940c-3a9e12c71821",
        "colab": {
          "base_uri": "https://localhost:8080/",
          "height": 34
        }
      },
      "source": [
        "print(len(testloader.dataset))"
      ],
      "execution_count": 0,
      "outputs": [
        {
          "output_type": "stream",
          "text": [
            "10000\n"
          ],
          "name": "stdout"
        }
      ]
    },
    {
      "cell_type": "code",
      "metadata": {
        "id": "vJ7qX52gY5-a",
        "colab_type": "code",
        "outputId": "ee8e8158-151e-42d6-e425-266f0e5d0146",
        "colab": {
          "base_uri": "https://localhost:8080/",
          "height": 1000
        }
      },
      "source": [
        "\n",
        "# define loss function\n",
        "\n",
        "criterion = nn.CrossEntropyLoss()\n",
        "\n",
        "# define the optimizer\n",
        "\n",
        "optimizer = torch.optim.SGD(net.parameters(), lr=0.001, momentum=0.9)\n",
        "\n",
        "#train_loss_arr = {}\n",
        "#test_loss_arr = {}\n",
        "train_loss_arr = arr.array('d', []) \n",
        "test_loss_arr = arr.array('d', []) \n",
        "\n",
        "now = datetime.now()\n",
        "current_time = now.strftime(\"%H:%M:%S\")\n",
        "print(\"Training Start Time =\", current_time)\n",
        "\n",
        "for epoch in range(10):  \n",
        "\n",
        "    running_loss = 0.0\n",
        "    epoch_loss = 0.0\n",
        "    test_loss = 0.0\n",
        "    for i, data in enumerate(trainloader, 0):\n",
        "        # get the inputs\n",
        "        inputs, labels = data\n",
        "        \n",
        "        #inputs = inputs.cuda() # -- For GPU\n",
        "        #labels = labels.cuda() # -- For GPU\n",
        "\n",
        "        # zero the parameter gradients\n",
        "        optimizer.zero_grad()\n",
        "\n",
        "        # forward + backward + optimize\n",
        "        outputs = net(inputs)\n",
        "        loss = criterion(outputs, labels)\n",
        "        loss.backward()\n",
        "        optimizer.step()\n",
        "\n",
        "        # print statistics\n",
        "        running_loss += loss.item()\n",
        "        epoch_loss += loss.item()\n",
        "        if (i+1) % 1000 == 0:    \n",
        "            print('[%d, %5d] train loss: %.3f' %\n",
        "                  (epoch + 1, i + 1, running_loss / 1000))\n",
        "            #train_loss_arr.append(running_loss/1000)\n",
        "            running_loss = 0.0\n",
        "\n",
        "    train_loss_arr.append(epoch_loss / len(trainloader.dataset))\n",
        "    epoch_loss = 0.0\n",
        "    test_loss = test_loss_clac()\n",
        "    test_loss_arr.append(test_loss)\n",
        "    print('[%d] test loss: %.3f' %\n",
        "                  (epoch + 1, test_loss))\n",
        "    test_loss =0.0\n",
        "   \n",
        "print('Finished Training')\n",
        "now = datetime.now()\n",
        "current_time = now.strftime(\"%H:%M:%S\")\n",
        "print(\"Training End Time =\", current_time)\n",
        "\n",
        "\n",
        "\n"
      ],
      "execution_count": 0,
      "outputs": [
        {
          "output_type": "stream",
          "text": [
            "Training Time = 18:02:16\n",
            "[1,  1000] train loss: 2.302\n",
            "[1,  2000] train loss: 2.297\n",
            "[1,  3000] train loss: 1.914\n",
            "[1,  4000] train loss: 0.978\n",
            "[1,  5000] train loss: 0.772\n",
            "[1,  6000] train loss: 0.719\n",
            "[1,  7000] train loss: 0.664\n",
            "[1,  8000] train loss: 0.628\n",
            "[1,  9000] train loss: 0.599\n",
            "[1, 10000] train loss: 0.573\n",
            "[1, 11000] train loss: 0.561\n",
            "[1, 12000] train loss: 0.552\n",
            "[1, 13000] train loss: 0.542\n",
            "[1, 14000] train loss: 0.505\n",
            "[1, 15000] train loss: 0.505\n",
            "[1] test loss: 0.124\n",
            "[2,  1000] train loss: 0.506\n",
            "[2,  2000] train loss: 0.483\n",
            "[2,  3000] train loss: 0.473\n",
            "[2,  4000] train loss: 0.461\n",
            "[2,  5000] train loss: 0.477\n",
            "[2,  6000] train loss: 0.465\n",
            "[2,  7000] train loss: 0.417\n",
            "[2,  8000] train loss: 0.462\n",
            "[2,  9000] train loss: 0.458\n",
            "[2, 10000] train loss: 0.449\n",
            "[2, 11000] train loss: 0.450\n",
            "[2, 12000] train loss: 0.424\n",
            "[2, 13000] train loss: 0.424\n",
            "[2, 14000] train loss: 0.426\n",
            "[2, 15000] train loss: 0.399\n",
            "[2] test loss: 0.106\n",
            "[3,  1000] train loss: 0.393\n",
            "[3,  2000] train loss: 0.374\n",
            "[3,  3000] train loss: 0.382\n",
            "[3,  4000] train loss: 0.420\n",
            "[3,  5000] train loss: 0.383\n",
            "[3,  6000] train loss: 0.381\n",
            "[3,  7000] train loss: 0.394\n",
            "[3,  8000] train loss: 0.388\n",
            "[3,  9000] train loss: 0.378\n",
            "[3, 10000] train loss: 0.396\n",
            "[3, 11000] train loss: 0.378\n",
            "[3, 12000] train loss: 0.378\n",
            "[3, 13000] train loss: 0.386\n",
            "[3, 14000] train loss: 0.364\n",
            "[3, 15000] train loss: 0.368\n",
            "[3] test loss: 0.094\n",
            "[4,  1000] train loss: 0.346\n",
            "[4,  2000] train loss: 0.361\n",
            "[4,  3000] train loss: 0.334\n",
            "[4,  4000] train loss: 0.357\n",
            "[4,  5000] train loss: 0.349\n",
            "[4,  6000] train loss: 0.352\n",
            "[4,  7000] train loss: 0.367\n",
            "[4,  8000] train loss: 0.351\n",
            "[4,  9000] train loss: 0.354\n",
            "[4, 10000] train loss: 0.338\n",
            "[4, 11000] train loss: 0.325\n",
            "[4, 12000] train loss: 0.336\n",
            "[4, 13000] train loss: 0.360\n",
            "[4, 14000] train loss: 0.335\n",
            "[4, 15000] train loss: 0.339\n",
            "[4] test loss: 0.109\n",
            "[5,  1000] train loss: 0.336\n",
            "[5,  2000] train loss: 0.330\n",
            "[5,  3000] train loss: 0.329\n",
            "[5,  4000] train loss: 0.325\n",
            "[5,  5000] train loss: 0.342\n",
            "[5,  6000] train loss: 0.339\n",
            "[5,  7000] train loss: 0.330\n",
            "[5,  8000] train loss: 0.307\n",
            "[5,  9000] train loss: 0.318\n",
            "[5, 10000] train loss: 0.303\n",
            "[5, 11000] train loss: 0.323\n",
            "[5, 12000] train loss: 0.323\n",
            "[5, 13000] train loss: 0.310\n",
            "[5, 14000] train loss: 0.334\n",
            "[5, 15000] train loss: 0.313\n",
            "[5] test loss: 0.088\n",
            "[6,  1000] train loss: 0.309\n",
            "[6,  2000] train loss: 0.284\n",
            "[6,  3000] train loss: 0.321\n",
            "[6,  4000] train loss: 0.317\n",
            "[6,  5000] train loss: 0.310\n",
            "[6,  6000] train loss: 0.299\n",
            "[6,  7000] train loss: 0.301\n",
            "[6,  8000] train loss: 0.306\n",
            "[6,  9000] train loss: 0.327\n",
            "[6, 10000] train loss: 0.329\n",
            "[6, 11000] train loss: 0.305\n",
            "[6, 12000] train loss: 0.309\n",
            "[6, 13000] train loss: 0.305\n",
            "[6, 14000] train loss: 0.306\n",
            "[6, 15000] train loss: 0.282\n",
            "[6] test loss: 0.081\n",
            "[7,  1000] train loss: 0.285\n",
            "[7,  2000] train loss: 0.304\n",
            "[7,  3000] train loss: 0.292\n",
            "[7,  4000] train loss: 0.287\n",
            "[7,  5000] train loss: 0.297\n",
            "[7,  6000] train loss: 0.283\n",
            "[7,  7000] train loss: 0.271\n",
            "[7,  8000] train loss: 0.305\n",
            "[7,  9000] train loss: 0.284\n",
            "[7, 10000] train loss: 0.293\n",
            "[7, 11000] train loss: 0.313\n",
            "[7, 12000] train loss: 0.302\n",
            "[7, 13000] train loss: 0.281\n",
            "[7, 14000] train loss: 0.290\n",
            "[7, 15000] train loss: 0.292\n",
            "[7] test loss: 0.082\n",
            "[8,  1000] train loss: 0.261\n",
            "[8,  2000] train loss: 0.293\n",
            "[8,  3000] train loss: 0.277\n",
            "[8,  4000] train loss: 0.288\n",
            "[8,  5000] train loss: 0.279\n",
            "[8,  6000] train loss: 0.303\n",
            "[8,  7000] train loss: 0.263\n",
            "[8,  8000] train loss: 0.291\n",
            "[8,  9000] train loss: 0.276\n",
            "[8, 10000] train loss: 0.276\n",
            "[8, 11000] train loss: 0.292\n",
            "[8, 12000] train loss: 0.289\n",
            "[8, 13000] train loss: 0.268\n",
            "[8, 14000] train loss: 0.271\n",
            "[8, 15000] train loss: 0.277\n",
            "[8] test loss: 0.093\n",
            "[9,  1000] train loss: 0.283\n",
            "[9,  2000] train loss: 0.263\n",
            "[9,  3000] train loss: 0.268\n",
            "[9,  4000] train loss: 0.279\n",
            "[9,  5000] train loss: 0.269\n",
            "[9,  6000] train loss: 0.275\n",
            "[9,  7000] train loss: 0.271\n",
            "[9,  8000] train loss: 0.275\n",
            "[9,  9000] train loss: 0.284\n",
            "[9, 10000] train loss: 0.254\n",
            "[9, 11000] train loss: 0.280\n",
            "[9, 12000] train loss: 0.265\n",
            "[9, 13000] train loss: 0.272\n",
            "[9, 14000] train loss: 0.267\n",
            "[9, 15000] train loss: 0.264\n",
            "[9] test loss: 0.080\n",
            "[10,  1000] train loss: 0.278\n",
            "[10,  2000] train loss: 0.243\n",
            "[10,  3000] train loss: 0.252\n",
            "[10,  4000] train loss: 0.253\n",
            "[10,  5000] train loss: 0.254\n",
            "[10,  6000] train loss: 0.242\n",
            "[10,  7000] train loss: 0.269\n",
            "[10,  8000] train loss: 0.271\n",
            "[10,  9000] train loss: 0.280\n",
            "[10, 10000] train loss: 0.281\n",
            "[10, 11000] train loss: 0.270\n",
            "[10, 12000] train loss: 0.278\n",
            "[10, 13000] train loss: 0.254\n",
            "[10, 14000] train loss: 0.267\n",
            "[10, 15000] train loss: 0.263\n",
            "[10] test loss: 0.076\n",
            "Finished Training\n",
            "Training Time = 18:12:57\n"
          ],
          "name": "stdout"
        }
      ]
    },
    {
      "cell_type": "code",
      "metadata": {
        "id": "omtuDAivc5Vl",
        "colab_type": "code",
        "outputId": "abb17975-1bcb-4620-9057-e65294be3408",
        "colab": {
          "base_uri": "https://localhost:8080/",
          "height": 335
        }
      },
      "source": [
        "\n",
        "print(train_loss_arr)\n",
        "print(test_loss_arr)\n",
        "plt.subplot(1, 2, 2)\n",
        "plt.plot(range(10), train_loss_arr, 'b', label='Training Loss')\n",
        "plt.plot(range(10), test_loss_arr, 'r', label='Test Loss')\n",
        "plt.legend(loc='upper right')\n",
        "plt.title('Training and Test Loss')\n",
        "plt.savefig('./foo.png')\n",
        "plt.show()"
      ],
      "execution_count": 0,
      "outputs": [
        {
          "output_type": "stream",
          "text": [
            "array('d', [0.23517404237181957, 0.11290024231211356, 0.09606405043247457, 0.08674542127293529, 0.08105915506762684, 0.07684484313333845, 0.07300914431889087, 0.07004094726718674, 0.06778524259818258, 0.06592401163524272])\n",
            "array('d', [0.12419063698211685, 0.10641429917731439, 0.09379798705044741, 0.10880577322118952, 0.08751797830163151, 0.08092370106894141, 0.08197493506741982, 0.09338848924289832, 0.08048161948949667, 0.0759335251848664])\n"
          ],
          "name": "stdout"
        },
        {
          "output_type": "display_data",
          "data": {
            "image/png": "[encoded data removed]",
            "text/plain": [
              "<Figure size 432x288 with 1 Axes>"
            ]
          },
          "metadata": {
            "tags": []
          }
        }
      ]
    },
    {
      "cell_type": "markdown",
      "metadata": {
        "id": "Aa0sxqAhY8wA",
        "colab_type": "text"
      },
      "source": [
        "Write a function that evaluates the resulted model over the entire test data of FashionMNIST. Provide a single accuracy number."
      ]
    },
    {
      "cell_type": "code",
      "metadata": {
        "id": "uzuGund9aBOp",
        "colab_type": "code",
        "outputId": "98c539d1-05fb-4b9f-fbb0-062cadb827ea",
        "colab": {
          "base_uri": "https://localhost:8080/",
          "height": 34
        }
      },
      "source": [
        "correct = 0\n",
        "total = 0\n",
        "with torch.no_grad():\n",
        "    for data in testloader:\n",
        "        images, labels = data\n",
        "        #images = images.cuda()  # -- for GPU\n",
        "        #labels = labels.cuda()  # -- for GPU\n",
        "\n",
        "        outputs = net(images)\n",
        "        _, predicted = torch.max(outputs.data, 1)\n",
        "        total += labels.size(0)\n",
        "        correct += (predicted == labels).sum().item()\n",
        "\n",
        "print('Accuracy of the network on the test images: %d %%' % (100 * correct / total))"
      ],
      "execution_count": 0,
      "outputs": [
        {
          "output_type": "stream",
          "text": [
            "Accuracy of the network on the test images: 89 %\n"
          ],
          "name": "stdout"
        }
      ]
    },
    {
      "cell_type": "markdown",
      "metadata": {
        "id": "rMnb9gSGaIjP",
        "colab_type": "text"
      },
      "source": [
        "# Training with a GPU \n",
        "You are requested to change your code to use the GPU instead of the CPU.\n",
        "This can be easily done bu converting every torch.tensor to torch.cuda.tensor. \n",
        "\n",
        "Specific instructions:\n",
        "* Change the hardware equipent of your colab notebook. To do that, go to the \"Runtime\" menu, and then to \"Change runtime type\". In the dialog box, change \"Hardware accelerator\" to GPU.\n",
        "* Please follow the lines that were commented out with the comment    # -- For GPU\n",
        "* Also, remove the lines that have the comment # -- For CPU\n",
        "\n",
        "Train your network again and compare training time."
      ]
    },
    {
      "cell_type": "markdown",
      "metadata": {
        "id": "Vm5DnMate6s0",
        "colab_type": "text"
      },
      "source": [
        "# Submission instructions\n",
        "\n",
        "You should submit a pdf file with the following items:\n",
        "\n",
        "CPU Experiment:\n",
        "*   Plot of loss curves (train in blue, test in red)\n",
        "*   Training time\n",
        "\n",
        "GPU Experiment:\n",
        "*   Plot of loss curves (train in blue, test in red)\n",
        "*   Training time\n",
        "\n",
        "Link for your collab notebook.\n",
        "ID and names of submitters.\n",
        "\n",
        "\n",
        "Good luck!"
      ]
    }
  ]
}